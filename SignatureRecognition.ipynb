{
  "cells": [
    {
      "cell_type": "code",
      "execution_count": 9,
      "metadata": {
        "colab": {
          "base_uri": "https://localhost:8080/"
        },
        "id": "GTSQ6pIcIXhl",
        "outputId": "e5f479d7-591e-4aad-c670-493a5f0612ba"
      },
      "outputs": [
        {
          "name": "stdout",
          "output_type": "stream",
          "text": [
            "Mounted at /content/drive\n"
          ]
        }
      ],
      "source": [
        "from google.colab import drive\n",
        "\n",
        "drive.mount('/content/drive')"
      ]
    },
    {
      "cell_type": "code",
      "execution_count": null,
      "metadata": {
        "colab": {
          "base_uri": "https://localhost:8080/",
          "height": 1000
        },
        "id": "e80HsdOTiDcp",
        "outputId": "9aa8d916-df0d-4975-f524-5455594856b5"
      },
      "outputs": [],
      "source": [
        "import os\n",
        "import numpy as np\n",
        "from keras.preprocessing import image\n",
        "from tensorflow.keras.preprocessing import image\n",
        "from keras.applications.vgg16 import VGG16, preprocess_input\n",
        "from PIL import Image\n",
        "\n",
        "from PIL import Image, ImageOps\n",
        "import numpy as np\n",
        "from tensorflow.keras.preprocessing import image\n",
        "from tensorflow.keras.applications.vgg16 import preprocess_input\n",
        "\n",
        "# Load the pre-trained VGG16 model\n",
        "model = VGG16(weights='imagenet', include_top=False, input_shape=(224, 224, 3))\n",
        "\n",
        "def extract_features(img_path):\n",
        "    img = Image.open(img_path)\n",
        "    img = ImageOps.expand(img, border=(10, 10), fill='white') # Add 10 pixels of white padding around the image\n",
        "    img = img.resize((224, 224)) # Resize the image to 224x224\n",
        "    x = image.img_to_array(img)\n",
        "    x = np.expand_dims(x, axis=0)\n",
        "    x = preprocess_input(x)\n",
        "    features = model.predict(x)\n",
        "    return features\n",
        "\n",
        "# Extract signatures from the two input images\n",
        "signature1_path = '/content/drive/MyDrive/SML_mini/Class_pdf_jpg/1.jpg'\n",
        "signature2_path = '/content/drive/MyDrive/SML_mini/input/1.jpg'\n",
        "signature1 = extract_features(signature1_path)\n",
        "signature2 = extract_features(signature2_path)\n",
        "\n",
        "# Compare the two input signatures with all signatures in a folder\n",
        "folder_path1 = '/content/drive/MyDrive/SML_mini/Class_pdf_jpg'\n",
        "similarity_scores1 = []\n",
        "for filename in os.listdir(folder_path1):\n",
        "    if filename.endswith('.jpg'):\n",
        "        signature_path1 = os.path.join(folder_path1, filename)\n",
        "        signature = extract_features(signature_path1)\n",
        "        similarity_score1 = np.dot(signature1.flatten(), signature.flatten()) / (np.linalg.norm(signature1) * np.linalg.norm(signature))\n",
        "        similarity_scores1.append((signature_path1, similarity_score1))\n",
        "\n",
        "\n",
        "# Compare the two input signatures with all signatures in a folder\n",
        "folder_path2 = '/content/drive/MyDrive/SML_mini/input'\n",
        "similarity_scores2 = []\n",
        "for filename in os.listdir(folder_path2):\n",
        "    if filename.endswith('.jpg'):\n",
        "        signature_path2 = os.path.join(folder_path2, filename)\n",
        "        signature = extract_features(signature_path2)\n",
        "        similarity_score2 = np.dot(signature2.flatten(), signature.flatten()) / (np.linalg.norm(signature2) * np.linalg.norm(signature))\n",
        "        similarity_scores2.append((signature_path2, similarity_score2))\n",
        "\n",
        "# Find the signature image in the folder with the highest similarity score with the two input signature images\n",
        "best_match1 = max(similarity_scores1, key=lambda x: x[1])\n",
        "best_match2 = max(similarity_scores2, key=lambda x: x[1])\n",
        "\n",
        "# Display the matched signature image and the similarity score\n",
        "print('Best Match:', best_match1[0])\n",
        "print('Similarity Score:', best_match1[1])\n",
        "\n",
        "# Show the matched image\n",
        "matched_image = Image.open(best_match1[0])\n",
        "matched_image.show()"
      ]
    }
  ],
  "metadata": {
    "colab": {
      "provenance": []
    },
    "kernelspec": {
      "display_name": "Python 3",
      "name": "python3"
    },
    "language_info": {
      "name": "python"
    }
  },
  "nbformat": 4,
  "nbformat_minor": 0
}
